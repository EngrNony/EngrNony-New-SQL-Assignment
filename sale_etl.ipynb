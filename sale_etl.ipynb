{
 "cells": [
  {
   "cell_type": "markdown",
   "metadata": {},
   "source": [
    "### Importing Necessary Libraries\n"
   ]
  },
  {
   "cell_type": "code",
   "execution_count": 11,
   "metadata": {},
   "outputs": [],
   "source": [
    "import numpy as np\n",
    "import pandas as pd"
   ]
  },
  {
   "cell_type": "markdown",
   "metadata": {},
   "source": [
    "### Extraction Layer"
   ]
  },
  {
   "cell_type": "code",
   "execution_count": 25,
   "metadata": {},
   "outputs": [],
   "source": [
    "sales_df = pd.read_csv(r'C:\\Users\\nonso\\Desktop\\new sql assignment\\EngrNony-New-SQL-Assignment\\dataset\\raw_data\\Sales Dataset.csv')"
   ]
  },
  {
   "cell_type": "code",
   "execution_count": 26,
   "metadata": {},
   "outputs": [
    {
     "data": {
      "text/html": [
       "<div>\n",
       "<style scoped>\n",
       "    .dataframe tbody tr th:only-of-type {\n",
       "        vertical-align: middle;\n",
       "    }\n",
       "\n",
       "    .dataframe tbody tr th {\n",
       "        vertical-align: top;\n",
       "    }\n",
       "\n",
       "    .dataframe thead th {\n",
       "        text-align: right;\n",
       "    }\n",
       "</style>\n",
       "<table border=\"1\" class=\"dataframe\">\n",
       "  <thead>\n",
       "    <tr style=\"text-align: right;\">\n",
       "      <th></th>\n",
       "      <th>Order ID</th>\n",
       "      <th>Amount</th>\n",
       "      <th>Profit</th>\n",
       "      <th>Quantity</th>\n",
       "      <th>Category</th>\n",
       "      <th>Sub-Category</th>\n",
       "      <th>PaymentMode</th>\n",
       "      <th>Order Date</th>\n",
       "      <th>CustomerName</th>\n",
       "      <th>State</th>\n",
       "      <th>City</th>\n",
       "      <th>Year-Month</th>\n",
       "    </tr>\n",
       "  </thead>\n",
       "  <tbody>\n",
       "    <tr>\n",
       "      <th>0</th>\n",
       "      <td>B-26776</td>\n",
       "      <td>9726</td>\n",
       "      <td>1275</td>\n",
       "      <td>5</td>\n",
       "      <td>Electronics</td>\n",
       "      <td>Electronic Games</td>\n",
       "      <td>UPI</td>\n",
       "      <td>2023-06-27</td>\n",
       "      <td>David Padilla</td>\n",
       "      <td>Florida</td>\n",
       "      <td>Miami</td>\n",
       "      <td>2023-06</td>\n",
       "    </tr>\n",
       "    <tr>\n",
       "      <th>1</th>\n",
       "      <td>B-26776</td>\n",
       "      <td>9726</td>\n",
       "      <td>1275</td>\n",
       "      <td>5</td>\n",
       "      <td>Electronics</td>\n",
       "      <td>Electronic Games</td>\n",
       "      <td>UPI</td>\n",
       "      <td>2024-12-27</td>\n",
       "      <td>Connor Morgan</td>\n",
       "      <td>Illinois</td>\n",
       "      <td>Chicago</td>\n",
       "      <td>2024-12</td>\n",
       "    </tr>\n",
       "    <tr>\n",
       "      <th>2</th>\n",
       "      <td>B-26776</td>\n",
       "      <td>9726</td>\n",
       "      <td>1275</td>\n",
       "      <td>5</td>\n",
       "      <td>Electronics</td>\n",
       "      <td>Electronic Games</td>\n",
       "      <td>UPI</td>\n",
       "      <td>2021-07-25</td>\n",
       "      <td>Robert Stone</td>\n",
       "      <td>New York</td>\n",
       "      <td>Buffalo</td>\n",
       "      <td>2021-07</td>\n",
       "    </tr>\n",
       "    <tr>\n",
       "      <th>3</th>\n",
       "      <td>B-26776</td>\n",
       "      <td>4975</td>\n",
       "      <td>1330</td>\n",
       "      <td>14</td>\n",
       "      <td>Electronics</td>\n",
       "      <td>Printers</td>\n",
       "      <td>UPI</td>\n",
       "      <td>2023-06-27</td>\n",
       "      <td>David Padilla</td>\n",
       "      <td>Florida</td>\n",
       "      <td>Miami</td>\n",
       "      <td>2023-06</td>\n",
       "    </tr>\n",
       "    <tr>\n",
       "      <th>4</th>\n",
       "      <td>B-26776</td>\n",
       "      <td>4975</td>\n",
       "      <td>1330</td>\n",
       "      <td>14</td>\n",
       "      <td>Electronics</td>\n",
       "      <td>Printers</td>\n",
       "      <td>UPI</td>\n",
       "      <td>2024-12-27</td>\n",
       "      <td>Connor Morgan</td>\n",
       "      <td>Illinois</td>\n",
       "      <td>Chicago</td>\n",
       "      <td>2024-12</td>\n",
       "    </tr>\n",
       "  </tbody>\n",
       "</table>\n",
       "</div>"
      ],
      "text/plain": [
       "  Order ID  Amount  Profit  Quantity     Category      Sub-Category  \\\n",
       "0  B-26776    9726    1275         5  Electronics  Electronic Games   \n",
       "1  B-26776    9726    1275         5  Electronics  Electronic Games   \n",
       "2  B-26776    9726    1275         5  Electronics  Electronic Games   \n",
       "3  B-26776    4975    1330        14  Electronics          Printers   \n",
       "4  B-26776    4975    1330        14  Electronics          Printers   \n",
       "\n",
       "  PaymentMode  Order Date   CustomerName     State     City Year-Month  \n",
       "0         UPI  2023-06-27  David Padilla   Florida    Miami    2023-06  \n",
       "1         UPI  2024-12-27  Connor Morgan  Illinois  Chicago    2024-12  \n",
       "2         UPI  2021-07-25   Robert Stone  New York  Buffalo    2021-07  \n",
       "3         UPI  2023-06-27  David Padilla   Florida    Miami    2023-06  \n",
       "4         UPI  2024-12-27  Connor Morgan  Illinois  Chicago    2024-12  "
      ]
     },
     "execution_count": 26,
     "metadata": {},
     "output_type": "execute_result"
    }
   ],
   "source": [
    "sales_df.head()"
   ]
  },
  {
   "cell_type": "code",
   "execution_count": 235,
   "metadata": {},
   "outputs": [
    {
     "name": "stdout",
     "output_type": "stream",
     "text": [
      "<class 'pandas.core.frame.DataFrame'>\n",
      "RangeIndex: 1194 entries, 0 to 1193\n",
      "Data columns (total 12 columns):\n",
      " #   Column        Non-Null Count  Dtype         \n",
      "---  ------        --------------  -----         \n",
      " 0   Order ID      1194 non-null   object        \n",
      " 1   Amount        1194 non-null   int64         \n",
      " 2   Profit        1194 non-null   int64         \n",
      " 3   Quantity      1194 non-null   int64         \n",
      " 4   Category      1194 non-null   object        \n",
      " 5   Sub-Category  1194 non-null   object        \n",
      " 6   PaymentMode   1194 non-null   object        \n",
      " 7   Order Date    1194 non-null   datetime64[ns]\n",
      " 8   CustomerName  1194 non-null   object        \n",
      " 9   State         1194 non-null   object        \n",
      " 10  City          1194 non-null   object        \n",
      " 11  Year-Month    1194 non-null   datetime64[ns]\n",
      "dtypes: datetime64[ns](2), int64(3), object(7)\n",
      "memory usage: 112.1+ KB\n"
     ]
    }
   ],
   "source": [
    "sales_df.info()"
   ]
  },
  {
   "cell_type": "code",
   "execution_count": 236,
   "metadata": {},
   "outputs": [
    {
     "data": {
      "text/plain": [
       "Index(['Order ID', 'Amount', 'Profit', 'Quantity', 'Category', 'Sub-Category',\n",
       "       'PaymentMode', 'Order Date', 'CustomerName', 'State', 'City',\n",
       "       'Year-Month'],\n",
       "      dtype='object')"
      ]
     },
     "execution_count": 236,
     "metadata": {},
     "output_type": "execute_result"
    }
   ],
   "source": [
    "sales_df.columns"
   ]
  },
  {
   "cell_type": "markdown",
   "metadata": {},
   "source": [
    "### Data Cleaning Step"
   ]
  },
  {
   "cell_type": "code",
   "execution_count": 237,
   "metadata": {},
   "outputs": [],
   "source": [
    "#convert order date from string to datetime object\n",
    "sales_df['Order Date'] = pd.to_datetime(sales_df['Order Date'])\n",
    "sales_df['Year-Month'] = pd.to_datetime(sales_df['Year-Month'])"
   ]
  },
  {
   "cell_type": "code",
   "execution_count": 238,
   "metadata": {},
   "outputs": [
    {
     "data": {
      "text/plain": [
       "Index(['Order ID', 'Amount', 'Profit', 'Quantity', 'Category', 'Sub-Category',\n",
       "       'PaymentMode', 'Order Date', 'CustomerName', 'State', 'City',\n",
       "       'Year-Month'],\n",
       "      dtype='object')"
      ]
     },
     "execution_count": 238,
     "metadata": {},
     "output_type": "execute_result"
    }
   ],
   "source": [
    "sales_df.columns"
   ]
  },
  {
   "cell_type": "code",
   "execution_count": 247,
   "metadata": {},
   "outputs": [
    {
     "data": {
      "text/html": [
       "<div>\n",
       "<style scoped>\n",
       "    .dataframe tbody tr th:only-of-type {\n",
       "        vertical-align: middle;\n",
       "    }\n",
       "\n",
       "    .dataframe tbody tr th {\n",
       "        vertical-align: top;\n",
       "    }\n",
       "\n",
       "    .dataframe thead th {\n",
       "        text-align: right;\n",
       "    }\n",
       "</style>\n",
       "<table border=\"1\" class=\"dataframe\">\n",
       "  <thead>\n",
       "    <tr style=\"text-align: right;\">\n",
       "      <th></th>\n",
       "      <th>Order ID</th>\n",
       "      <th>Amount</th>\n",
       "      <th>Profit</th>\n",
       "      <th>Quantity</th>\n",
       "      <th>Category</th>\n",
       "      <th>Sub-Category</th>\n",
       "      <th>PaymentMode</th>\n",
       "      <th>Order Date</th>\n",
       "      <th>CustomerName</th>\n",
       "      <th>State</th>\n",
       "      <th>City</th>\n",
       "      <th>Year-Month</th>\n",
       "    </tr>\n",
       "  </thead>\n",
       "  <tbody>\n",
       "    <tr>\n",
       "      <th>0</th>\n",
       "      <td>B-26776</td>\n",
       "      <td>9726</td>\n",
       "      <td>1275</td>\n",
       "      <td>5</td>\n",
       "      <td>Electronics</td>\n",
       "      <td>Electronic Games</td>\n",
       "      <td>UPI</td>\n",
       "      <td>2023-06-27</td>\n",
       "      <td>David Padilla</td>\n",
       "      <td>Florida</td>\n",
       "      <td>Miami</td>\n",
       "      <td>2023-06-01</td>\n",
       "    </tr>\n",
       "    <tr>\n",
       "      <th>1</th>\n",
       "      <td>B-26776</td>\n",
       "      <td>9726</td>\n",
       "      <td>1275</td>\n",
       "      <td>5</td>\n",
       "      <td>Electronics</td>\n",
       "      <td>Electronic Games</td>\n",
       "      <td>UPI</td>\n",
       "      <td>2024-12-27</td>\n",
       "      <td>Connor Morgan</td>\n",
       "      <td>Illinois</td>\n",
       "      <td>Chicago</td>\n",
       "      <td>2024-12-01</td>\n",
       "    </tr>\n",
       "    <tr>\n",
       "      <th>2</th>\n",
       "      <td>B-26776</td>\n",
       "      <td>9726</td>\n",
       "      <td>1275</td>\n",
       "      <td>5</td>\n",
       "      <td>Electronics</td>\n",
       "      <td>Electronic Games</td>\n",
       "      <td>UPI</td>\n",
       "      <td>2021-07-25</td>\n",
       "      <td>Robert Stone</td>\n",
       "      <td>New York</td>\n",
       "      <td>Buffalo</td>\n",
       "      <td>2021-07-01</td>\n",
       "    </tr>\n",
       "    <tr>\n",
       "      <th>3</th>\n",
       "      <td>B-26776</td>\n",
       "      <td>4975</td>\n",
       "      <td>1330</td>\n",
       "      <td>14</td>\n",
       "      <td>Electronics</td>\n",
       "      <td>Printers</td>\n",
       "      <td>UPI</td>\n",
       "      <td>2023-06-27</td>\n",
       "      <td>David Padilla</td>\n",
       "      <td>Florida</td>\n",
       "      <td>Miami</td>\n",
       "      <td>2023-06-01</td>\n",
       "    </tr>\n",
       "    <tr>\n",
       "      <th>4</th>\n",
       "      <td>B-26776</td>\n",
       "      <td>4975</td>\n",
       "      <td>1330</td>\n",
       "      <td>14</td>\n",
       "      <td>Electronics</td>\n",
       "      <td>Printers</td>\n",
       "      <td>UPI</td>\n",
       "      <td>2024-12-27</td>\n",
       "      <td>Connor Morgan</td>\n",
       "      <td>Illinois</td>\n",
       "      <td>Chicago</td>\n",
       "      <td>2024-12-01</td>\n",
       "    </tr>\n",
       "  </tbody>\n",
       "</table>\n",
       "</div>"
      ],
      "text/plain": [
       "  Order ID  Amount  Profit  Quantity     Category      Sub-Category  \\\n",
       "0  B-26776    9726    1275         5  Electronics  Electronic Games   \n",
       "1  B-26776    9726    1275         5  Electronics  Electronic Games   \n",
       "2  B-26776    9726    1275         5  Electronics  Electronic Games   \n",
       "3  B-26776    4975    1330        14  Electronics          Printers   \n",
       "4  B-26776    4975    1330        14  Electronics          Printers   \n",
       "\n",
       "  PaymentMode Order Date   CustomerName     State     City Year-Month  \n",
       "0         UPI 2023-06-27  David Padilla   Florida    Miami 2023-06-01  \n",
       "1         UPI 2024-12-27  Connor Morgan  Illinois  Chicago 2024-12-01  \n",
       "2         UPI 2021-07-25   Robert Stone  New York  Buffalo 2021-07-01  \n",
       "3         UPI 2023-06-27  David Padilla   Florida    Miami 2023-06-01  \n",
       "4         UPI 2024-12-27  Connor Morgan  Illinois  Chicago 2024-12-01  "
      ]
     },
     "execution_count": 247,
     "metadata": {},
     "output_type": "execute_result"
    }
   ],
   "source": [
    "# Sales Table\n",
    "sales_table = sales_df[['Order ID', 'Amount', 'Profit', 'Quantity', 'Category', 'Sub-Category', 'PaymentMode', 'Order Date', 'CustomerName', 'State', 'City', 'Year-Month']].copy().reset_index(drop=True)\n",
    "sales_table.head()"
   ]
  },
  {
   "cell_type": "code",
   "execution_count": 248,
   "metadata": {},
   "outputs": [],
   "source": [
    "# Save table to csv\n",
    "sales_table.to_csv(r'C:\\Users\\nonso\\Desktop\\new sql assignment\\EngrNony-New-SQL-Assignment\\dataset\\table_data/sales.csv', index=False)"
   ]
  },
  {
   "cell_type": "markdown",
   "metadata": {},
   "source": [
    "### Data Loading"
   ]
  },
  {
   "cell_type": "code",
   "execution_count": 249,
   "metadata": {},
   "outputs": [
    {
     "name": "stdout",
     "output_type": "stream",
     "text": [
      "Requirement already satisfied: psycopg2 in c:\\users\\nonso\\anaconda3\\lib\\site-packages (2.9.10)\n"
     ]
    }
   ],
   "source": [
    "!pip install psycopg2"
   ]
  },
  {
   "cell_type": "code",
   "execution_count": 250,
   "metadata": {},
   "outputs": [],
   "source": [
    "import psycopg2\n"
   ]
  },
  {
   "cell_type": "code",
   "execution_count": 251,
   "metadata": {},
   "outputs": [],
   "source": [
    "def db_connection():\n",
    "    connection = psycopg2.connect(\n",
    "        host = 'localhost',\n",
    "        database = 'Sales_performance',\n",
    "        user = 'postgres',\n",
    "        password = 'password'\n",
    "    )\n",
    "    return connection"
   ]
  },
  {
   "cell_type": "code",
   "execution_count": 252,
   "metadata": {},
   "outputs": [],
   "source": [
    "conn = db_connection()"
   ]
  },
  {
   "cell_type": "code",
   "execution_count": 257,
   "metadata": {},
   "outputs": [],
   "source": [
    "# Create our SQL Table\n",
    "def create_table():\n",
    "    conn = db_connection()\n",
    "    cursor = conn.cursor()\n",
    "    create_table_query = '''\n",
    "                            CREATE SCHEMA IF NOT EXISTS analysis;\n",
    "\n",
    "                            DROP TABLE IF EXISTS analysis.sales CASCADE;\n",
    "\n",
    "\n",
    "                            CREATE TABLE IF NOT EXISTS analysis.sales (\n",
    "                                \"Order ID\" VARCHAR,\n",
    "                                Amount FLOAT,\n",
    "                                Profit FLOAT,\n",
    "                                Quantity INTEGER,\n",
    "                                Category TEXT,\n",
    "                                \"Sub-Category\" TEXT,\n",
    "                                PaymentMode TEXT,\n",
    "                                \"Order Date\" DATE,\n",
    "                                CustomerName TEXT,\n",
    "                                State TEXT,\n",
    "                                City TEXT,\n",
    "                                \"Year-Month\" DATE\n",
    "                            );\n",
    "                        '''\n",
    "    cursor.execute(create_table_query)\n",
    "    conn.commit()\n",
    "    cursor.close()\n",
    "    conn.close()"
   ]
  },
  {
   "cell_type": "code",
   "execution_count": 258,
   "metadata": {},
   "outputs": [],
   "source": [
    "create_table()"
   ]
  },
  {
   "cell_type": "code",
   "execution_count": 262,
   "metadata": {},
   "outputs": [],
   "source": [
    "import csv\n",
    "def load_from_csv(csv_path):\n",
    "    conn = db_connection()\n",
    "    cursor = conn.cursor()\n",
    "    with open(csv_path, 'r') as file:\n",
    "        reader = csv.reader(file)\n",
    "        next(reader)\n",
    "        for row in reader:\n",
    "            cursor.execute('''\n",
    "                            INSERT into analysis.sales(\"Order ID\", Amount, Profit, Quantity, Category, \"Sub-Category\", PaymentMode, \"Order Date\", CustomerName, State, city, \"Year-Month\")\n",
    "                            VALUES (%s, %s, %s, %s, %s, %s, %s, %s, %s, %s, %s, %s);''',\n",
    "                            row\n",
    "                        )\n",
    "    conn.commit()\n",
    "    cursor.close()\n",
    "    conn.close()\n",
    "\n",
    "csv_file_path = r'C:\\Users\\nonso\\Desktop\\new sql assignment\\EngrNony-New-SQL-Assignment\\dataset\\table_data\\sales.csv'\n",
    "load_from_csv(csv_file_path)\n",
    "\n"
   ]
  },
  {
   "cell_type": "code",
   "execution_count": null,
   "metadata": {},
   "outputs": [],
   "source": []
  }
 ],
 "metadata": {
  "kernelspec": {
   "display_name": "base",
   "language": "python",
   "name": "python3"
  },
  "language_info": {
   "codemirror_mode": {
    "name": "ipython",
    "version": 3
   },
   "file_extension": ".py",
   "mimetype": "text/x-python",
   "name": "python",
   "nbconvert_exporter": "python",
   "pygments_lexer": "ipython3",
   "version": "3.12.7"
  }
 },
 "nbformat": 4,
 "nbformat_minor": 2
}
